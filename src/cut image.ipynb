{
 "cells": [
  {
   "cell_type": "code",
   "execution_count": 1,
   "metadata": {},
   "outputs": [],
   "source": [
    "import numpy as np\n",
    "import pandas as pd\n",
    "import cv2\n",
    "import matplotlib.pyplot as plt"
   ]
  },
  {
   "cell_type": "code",
   "execution_count": 2,
   "metadata": {},
   "outputs": [],
   "source": [
    "train_path = \"../dataset/train/\"\n",
    "test_path = \"../dataset/test/\"\n",
    "target_train_path = \"../dataset/train_crop/\"\n",
    "target_test_path = \"../dataset/test_crop/\"\n",
    "train_bbox = \"./bbox_label_train.csv\"\n",
    "test_bbox = \"./bbox_label_test.csv\""
   ]
  },
  {
   "cell_type": "code",
   "execution_count": 3,
   "metadata": {},
   "outputs": [],
   "source": [
    "def crop_image(label_file, file_path, target_path):\n",
    "    data = np.array(pd.read_csv(label_file))\n",
    "    for i in range(int(data.shape[0])):\n",
    "        file_name = data[i][1]\n",
    "        x_min = max(0,data[i][2])\n",
    "        y_min = max(0,data[i][3])\n",
    "        x_max = data[i][4]\n",
    "        y_max = data[i][5]\n",
    "        img = cv2.imread(file_path+file_name)\n",
    "    #     img = cv2.cvtColor(img, cv2.COLOR_BGR2RGB)\n",
    "        img = img[y_min:min(img.shape[0],y_max), x_min:min(img.shape[1],x_max)]\n",
    "        cv2.imwrite(target_path+file_name, img)\n",
    "    "
   ]
  },
  {
   "cell_type": "code",
   "execution_count": 6,
   "metadata": {},
   "outputs": [],
   "source": [
    "crop_image(train_bbox, train_path, target_train_path)"
   ]
  },
  {
   "cell_type": "code",
   "execution_count": null,
   "metadata": {},
   "outputs": [],
   "source": []
  }
 ],
 "metadata": {
  "kernelspec": {
   "display_name": "Python 3",
   "language": "python",
   "name": "python3"
  },
  "language_info": {
   "codemirror_mode": {
    "name": "ipython",
    "version": 3
   },
   "file_extension": ".py",
   "mimetype": "text/x-python",
   "name": "python",
   "nbconvert_exporter": "python",
   "pygments_lexer": "ipython3",
   "version": "3.5.2"
  }
 },
 "nbformat": 4,
 "nbformat_minor": 2
}
