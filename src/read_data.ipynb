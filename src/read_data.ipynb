{
 "cells": [
  {
   "cell_type": "code",
   "execution_count": 131,
   "metadata": {},
   "outputs": [],
   "source": [
    "from PIL import Image\n",
    "import os\n",
    "import os.path\n",
    "import pandas as pd\n",
    "import torch.utils.data\n",
    "import torchvision.transforms as transforms\n",
    "import pandas as pd\n",
    "import numpy as np"
   ]
  },
  {
   "cell_type": "code",
   "execution_count": 132,
   "metadata": {},
   "outputs": [],
   "source": [
    "def default_image_loader(path):\n",
    "    return Image.open(path).convert('RGB')"
   ]
  },
  {
   "cell_type": "code",
   "execution_count": 133,
   "metadata": {},
   "outputs": [],
   "source": [
    "class TripletImageLoader(torch.utils.data.Dataset):\n",
    "    def __init__(self, base_path, filenames_filename, triplets_file_name, transform=None,\n",
    "                 loader=default_image_loader):\n",
    "\n",
    "        self.base_path = base_path  \n",
    "        triplets = []\n",
    "        data = np.array(pd.read_csv(\"triplets.csv\"))\n",
    "        self.triplets = data\n",
    "        self.transform = transform\n",
    "        self.loader = loader\n",
    "    \n",
    "    def __getitem__(self, index):\n",
    "        img1 = self.loader(os.path.join(self.base_path,self.triplets[index][0]))\n",
    "        img2 = self.loader(os.path.join(self.base_path,self.triplets[index][1]))\n",
    "        img3 = self.loader(os.path.join(self.base_path,self.triplets[index][2]))\n",
    "        if self.transform is not None:\n",
    "            img1 = self.transform(img1)\n",
    "            img2 = self.transform(img2)\n",
    "            img3 = self.transform(img3)\n",
    "\n",
    "        return img1, img2, img3\n",
    "            \n",
    "    def __len__(self):\n",
    "        return len(self.triplets) "
   ]
  },
  {
   "cell_type": "code",
   "execution_count": 163,
   "metadata": {},
   "outputs": [],
   "source": [
    "class bulid_data():\n",
    "    def __init__(self):\n",
    "        pass\n",
    "    def read_data(self, mode, split):\n",
    "        np.random.seed(100)\n",
    "        if (mode == 'train'):\n",
    "            data = np.array(pd.read_csv(\"train.csv\"))\n",
    "            self.all_classes = np.unique(data[:,1])\n",
    "            file_list = np.arange(data.shape[0])\n",
    "            np.random.shuffle(file_list)\n",
    "            self.train = data[file_list[:int(data.shape[0]*split)]][:,0]\n",
    "            self.train_labels = data[file_list[:int(data.shape[0]*split)]][:,1]\n",
    "            self.valid = data[file_list[int(data.shape[0]*split):]][:,0]\n",
    "            self.valid_labels = data[file_list[int(data.shape[0]*split):]][:,1]\n",
    "                \n",
    "        elif (mode == 'test'):\n",
    "            data = pd.read_csv(\"test.csv\")\n",
    "            self.test = data['Image']\n",
    "            \n",
    "            \n",
    "    def make_triplet_list(self, ntriplets, mode):\n",
    "        print('Processing Triplet Generation ...')\n",
    "        if (mode == \"train\"):\n",
    "            np_labels = self.train_labels\n",
    "            filename = \"train_triplet_file.csv\"\n",
    "            \n",
    "        elif (mode == \"valid\"):\n",
    "            np_labels = self.valid_labels\n",
    "            filename = \"valid_triplet_file.csv\"\n",
    "        \n",
    "        triplets = []\n",
    "        for i in range(np_labels.shape[0]):\n",
    "#             print(self.train[i])\n",
    "            if (mode == 'train'):\n",
    "                this_for_label = self.train_labels[i]\n",
    "            else:\n",
    "                this_for_label = self.valid_labels[i]\n",
    "            anchor = i\n",
    "            close = np.random.choice(np.where(np_labels == this_for_label)[0], 1, replace=True)\n",
    "            count = 0\n",
    "            while (close - i == 0 and count < 10):\n",
    "                close = np.random.choice(np.where(np_labels == this_for_label)[0], 1, replace=True)\n",
    "                count += 1\n",
    "            far = np.random.choice(np.where(np_labels != this_for_label)[0], 1, replace=True)\n",
    "            \n",
    "            if (mode == 'train'):\n",
    "                triplets.append([self.train[int(anchor)], self.train[int(close)], self.train[int(far)], self.train_labels[i] ]) \n",
    "            else:\n",
    "                triplets.append([self.valid[int(anchor)], self.valid[int(close)], self.valid[int(far)], self.valid_labels[i] ]) \n",
    "#         return np.array(triplets)\n",
    "        data = pd.DataFrame(np.array(triplets).reshape(-1,4),columns=['anchor', 'far', 'close', 'labels'])\n",
    "        data.to_csv(\"triplets_\"+str(mode)+\".csv\", index=False)"
   ]
  },
  {
   "cell_type": "code",
   "execution_count": 164,
   "metadata": {},
   "outputs": [],
   "source": [
    "a = bulid_data()"
   ]
  },
  {
   "cell_type": "code",
   "execution_count": 165,
   "metadata": {},
   "outputs": [],
   "source": [
    "a.read_data('train', 0.95)"
   ]
  },
  {
   "cell_type": "code",
   "execution_count": 167,
   "metadata": {},
   "outputs": [
    {
     "name": "stdout",
     "output_type": "stream",
     "text": [
      "Processing Triplet Generation ...\n"
     ]
    }
   ],
   "source": [
    "a.make_triplet_list(300, 'valid')"
   ]
  },
  {
   "cell_type": "code",
   "execution_count": null,
   "metadata": {},
   "outputs": [],
   "source": []
  }
 ],
 "metadata": {
  "kernelspec": {
   "display_name": "Python 3",
   "language": "python",
   "name": "python3"
  },
  "language_info": {
   "codemirror_mode": {
    "name": "ipython",
    "version": 3
   },
   "file_extension": ".py",
   "mimetype": "text/x-python",
   "name": "python",
   "nbconvert_exporter": "python",
   "pygments_lexer": "ipython3",
   "version": "3.5.2"
  }
 },
 "nbformat": 4,
 "nbformat_minor": 2
}
